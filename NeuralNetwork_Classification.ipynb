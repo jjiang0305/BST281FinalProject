{
 "cells": [
  {
   "cell_type": "markdown",
   "metadata": {
    "id": "YQyRoH54ge0W"
   },
   "source": [
    "## Load Data"
   ]
  },
  {
   "cell_type": "code",
   "execution_count": 1,
   "metadata": {
    "colab": {
     "base_uri": "https://localhost:8080/"
    },
    "executionInfo": {
     "elapsed": 18602,
     "status": "ok",
     "timestamp": 1651540930933,
     "user": {
      "displayName": "April Yan",
      "userId": "09852906434199162721"
     },
     "user_tz": 240
    },
    "id": "klzfOoKdgYy5",
    "outputId": "103b14fd-a445-4e9d-f02a-9246bcc306ae"
   },
   "outputs": [
    {
     "name": "stdout",
     "output_type": "stream",
     "text": [
      "Mounted at /content/gdrive\n"
     ]
    }
   ],
   "source": [
    "import pandas as pd\n",
    "from google.colab import drive\n",
    "drive.mount('/content/gdrive')"
   ]
  },
  {
   "cell_type": "code",
   "execution_count": 2,
   "metadata": {
    "executionInfo": {
     "elapsed": 1668,
     "status": "ok",
     "timestamp": 1651540932595,
     "user": {
      "displayName": "April Yan",
      "userId": "09852906434199162721"
     },
     "user_tz": 240
    },
    "id": "UUcjTSKUgkGY"
   },
   "outputs": [],
   "source": [
    "data = pd.read_csv(\"gdrive/MyDrive/BST281_FinalProject/preprocessing/normalized_data.tsv\", sep='\\t', index_col=0)\n",
    "PC_data = pd.read_csv(\"gdrive/MyDrive/BST281_FinalProject/preprocessing/normalized_data_PC3.tsv\", sep='\\t', index_col=0)\n",
    "DU_data = pd.read_csv(\"gdrive/MyDrive/BST281_FinalProject/preprocessing/normalized_data_DU145.tsv\", sep='\\t', index_col=0)"
   ]
  },
  {
   "cell_type": "code",
   "execution_count": 3,
   "metadata": {
    "colab": {
     "base_uri": "https://localhost:8080/",
     "height": 297
    },
    "executionInfo": {
     "elapsed": 143,
     "status": "ok",
     "timestamp": 1651541101810,
     "user": {
      "displayName": "April Yan",
      "userId": "09852906434199162721"
     },
     "user_tz": 240
    },
    "id": "nDHMlIRohSgD",
    "outputId": "135f787a-be96-48da-f409-811c601919c6"
   },
   "outputs": [
    {
     "data": {
      "text/html": [
       "\n",
       "  <div id=\"df-d546f4dc-0937-41b3-996f-b1d517cd19de\">\n",
       "    <div class=\"colab-df-container\">\n",
       "      <div>\n",
       "<style scoped>\n",
       "    .dataframe tbody tr th:only-of-type {\n",
       "        vertical-align: middle;\n",
       "    }\n",
       "\n",
       "    .dataframe tbody tr th {\n",
       "        vertical-align: top;\n",
       "    }\n",
       "\n",
       "    .dataframe thead th {\n",
       "        text-align: right;\n",
       "    }\n",
       "</style>\n",
       "<table border=\"1\" class=\"dataframe\">\n",
       "  <thead>\n",
       "    <tr style=\"text-align: right;\">\n",
       "      <th></th>\n",
       "      <th>sample</th>\n",
       "      <th>cell_line</th>\n",
       "      <th>response</th>\n",
       "      <th>ID</th>\n",
       "      <th>ENSG00000008394.12|MGST1</th>\n",
       "      <th>ENSG00000078668.13|VDAC3</th>\n",
       "      <th>ENSG00000023734.10|STRAP</th>\n",
       "      <th>ENSG00000041357.15|PSMA4</th>\n",
       "      <th>ENSG00000075415.12|SLC25A3</th>\n",
       "      <th>ENSG00000099860.8|GADD45B</th>\n",
       "      <th>...</th>\n",
       "      <th>ENSG00000168615.11|ADAM9</th>\n",
       "      <th>ENSG00000173812.10|EIF1</th>\n",
       "      <th>ENSG00000144959.9|NCEH1</th>\n",
       "      <th>ENSG00000245532.5|NEAT1</th>\n",
       "      <th>ENSG00000081041.8|CXCL2</th>\n",
       "      <th>ENSG00000251562.7|MALAT1</th>\n",
       "      <th>ENSG00000248527.1|MTATP6P1</th>\n",
       "      <th>ENSG00000166710.17|B2M</th>\n",
       "      <th>ENSG00000104904.12|OAZ1</th>\n",
       "      <th>ENSG00000277791.4|PSMB3</th>\n",
       "    </tr>\n",
       "  </thead>\n",
       "  <tbody>\n",
       "    <tr>\n",
       "      <th>0</th>\n",
       "      <td>GSM4161769</td>\n",
       "      <td>PC3</td>\n",
       "      <td>Res</td>\n",
       "      <td>84</td>\n",
       "      <td>-1.097550</td>\n",
       "      <td>0.033803</td>\n",
       "      <td>-0.773977</td>\n",
       "      <td>-0.645446</td>\n",
       "      <td>0.500319</td>\n",
       "      <td>-0.590238</td>\n",
       "      <td>...</td>\n",
       "      <td>0.784400</td>\n",
       "      <td>0.511162</td>\n",
       "      <td>0.822949</td>\n",
       "      <td>1.654531</td>\n",
       "      <td>-0.461708</td>\n",
       "      <td>1.748719</td>\n",
       "      <td>0.880784</td>\n",
       "      <td>0.885715</td>\n",
       "      <td>0.503012</td>\n",
       "      <td>-0.473484</td>\n",
       "    </tr>\n",
       "    <tr>\n",
       "      <th>2</th>\n",
       "      <td>GSM4161715</td>\n",
       "      <td>PC3</td>\n",
       "      <td>Res</td>\n",
       "      <td>30</td>\n",
       "      <td>0.567121</td>\n",
       "      <td>0.675891</td>\n",
       "      <td>-1.317730</td>\n",
       "      <td>0.681543</td>\n",
       "      <td>0.580618</td>\n",
       "      <td>-0.590238</td>\n",
       "      <td>...</td>\n",
       "      <td>0.927355</td>\n",
       "      <td>1.095973</td>\n",
       "      <td>-1.388493</td>\n",
       "      <td>0.428909</td>\n",
       "      <td>0.010889</td>\n",
       "      <td>0.257977</td>\n",
       "      <td>1.007531</td>\n",
       "      <td>0.788760</td>\n",
       "      <td>1.413873</td>\n",
       "      <td>0.592194</td>\n",
       "    </tr>\n",
       "    <tr>\n",
       "      <th>4</th>\n",
       "      <td>GSM4161745</td>\n",
       "      <td>PC3</td>\n",
       "      <td>Res</td>\n",
       "      <td>60</td>\n",
       "      <td>-0.181654</td>\n",
       "      <td>0.681365</td>\n",
       "      <td>0.467985</td>\n",
       "      <td>-0.082135</td>\n",
       "      <td>0.561840</td>\n",
       "      <td>0.860808</td>\n",
       "      <td>...</td>\n",
       "      <td>0.515374</td>\n",
       "      <td>0.895421</td>\n",
       "      <td>0.459706</td>\n",
       "      <td>0.096349</td>\n",
       "      <td>-0.461708</td>\n",
       "      <td>1.671824</td>\n",
       "      <td>0.030053</td>\n",
       "      <td>1.527921</td>\n",
       "      <td>-0.096203</td>\n",
       "      <td>0.563755</td>\n",
       "    </tr>\n",
       "    <tr>\n",
       "      <th>7</th>\n",
       "      <td>GSM4161616</td>\n",
       "      <td>PC3</td>\n",
       "      <td>Sen</td>\n",
       "      <td>21</td>\n",
       "      <td>0.186515</td>\n",
       "      <td>-0.346329</td>\n",
       "      <td>1.330647</td>\n",
       "      <td>0.839010</td>\n",
       "      <td>0.203131</td>\n",
       "      <td>-1.914303</td>\n",
       "      <td>...</td>\n",
       "      <td>0.288937</td>\n",
       "      <td>0.278142</td>\n",
       "      <td>1.107653</td>\n",
       "      <td>0.967448</td>\n",
       "      <td>-0.461708</td>\n",
       "      <td>0.336510</td>\n",
       "      <td>1.670668</td>\n",
       "      <td>-0.773733</td>\n",
       "      <td>0.081382</td>\n",
       "      <td>0.042453</td>\n",
       "    </tr>\n",
       "    <tr>\n",
       "      <th>8</th>\n",
       "      <td>GSM4161684</td>\n",
       "      <td>PC3</td>\n",
       "      <td>Sen</td>\n",
       "      <td>89</td>\n",
       "      <td>-0.023384</td>\n",
       "      <td>0.557364</td>\n",
       "      <td>-0.515834</td>\n",
       "      <td>0.378458</td>\n",
       "      <td>0.031233</td>\n",
       "      <td>0.895922</td>\n",
       "      <td>...</td>\n",
       "      <td>-0.141554</td>\n",
       "      <td>0.817224</td>\n",
       "      <td>1.113367</td>\n",
       "      <td>0.343855</td>\n",
       "      <td>-0.461708</td>\n",
       "      <td>-0.670916</td>\n",
       "      <td>0.132463</td>\n",
       "      <td>0.253960</td>\n",
       "      <td>0.866186</td>\n",
       "      <td>0.903302</td>\n",
       "    </tr>\n",
       "  </tbody>\n",
       "</table>\n",
       "<p>5 rows × 307 columns</p>\n",
       "</div>\n",
       "      <button class=\"colab-df-convert\" onclick=\"convertToInteractive('df-d546f4dc-0937-41b3-996f-b1d517cd19de')\"\n",
       "              title=\"Convert this dataframe to an interactive table.\"\n",
       "              style=\"display:none;\">\n",
       "        \n",
       "  <svg xmlns=\"http://www.w3.org/2000/svg\" height=\"24px\"viewBox=\"0 0 24 24\"\n",
       "       width=\"24px\">\n",
       "    <path d=\"M0 0h24v24H0V0z\" fill=\"none\"/>\n",
       "    <path d=\"M18.56 5.44l.94 2.06.94-2.06 2.06-.94-2.06-.94-.94-2.06-.94 2.06-2.06.94zm-11 1L8.5 8.5l.94-2.06 2.06-.94-2.06-.94L8.5 2.5l-.94 2.06-2.06.94zm10 10l.94 2.06.94-2.06 2.06-.94-2.06-.94-.94-2.06-.94 2.06-2.06.94z\"/><path d=\"M17.41 7.96l-1.37-1.37c-.4-.4-.92-.59-1.43-.59-.52 0-1.04.2-1.43.59L10.3 9.45l-7.72 7.72c-.78.78-.78 2.05 0 2.83L4 21.41c.39.39.9.59 1.41.59.51 0 1.02-.2 1.41-.59l7.78-7.78 2.81-2.81c.8-.78.8-2.07 0-2.86zM5.41 20L4 18.59l7.72-7.72 1.47 1.35L5.41 20z\"/>\n",
       "  </svg>\n",
       "      </button>\n",
       "      \n",
       "  <style>\n",
       "    .colab-df-container {\n",
       "      display:flex;\n",
       "      flex-wrap:wrap;\n",
       "      gap: 12px;\n",
       "    }\n",
       "\n",
       "    .colab-df-convert {\n",
       "      background-color: #E8F0FE;\n",
       "      border: none;\n",
       "      border-radius: 50%;\n",
       "      cursor: pointer;\n",
       "      display: none;\n",
       "      fill: #1967D2;\n",
       "      height: 32px;\n",
       "      padding: 0 0 0 0;\n",
       "      width: 32px;\n",
       "    }\n",
       "\n",
       "    .colab-df-convert:hover {\n",
       "      background-color: #E2EBFA;\n",
       "      box-shadow: 0px 1px 2px rgba(60, 64, 67, 0.3), 0px 1px 3px 1px rgba(60, 64, 67, 0.15);\n",
       "      fill: #174EA6;\n",
       "    }\n",
       "\n",
       "    [theme=dark] .colab-df-convert {\n",
       "      background-color: #3B4455;\n",
       "      fill: #D2E3FC;\n",
       "    }\n",
       "\n",
       "    [theme=dark] .colab-df-convert:hover {\n",
       "      background-color: #434B5C;\n",
       "      box-shadow: 0px 1px 3px 1px rgba(0, 0, 0, 0.15);\n",
       "      filter: drop-shadow(0px 1px 2px rgba(0, 0, 0, 0.3));\n",
       "      fill: #FFFFFF;\n",
       "    }\n",
       "  </style>\n",
       "\n",
       "      <script>\n",
       "        const buttonEl =\n",
       "          document.querySelector('#df-d546f4dc-0937-41b3-996f-b1d517cd19de button.colab-df-convert');\n",
       "        buttonEl.style.display =\n",
       "          google.colab.kernel.accessAllowed ? 'block' : 'none';\n",
       "\n",
       "        async function convertToInteractive(key) {\n",
       "          const element = document.querySelector('#df-d546f4dc-0937-41b3-996f-b1d517cd19de');\n",
       "          const dataTable =\n",
       "            await google.colab.kernel.invokeFunction('convertToInteractive',\n",
       "                                                     [key], {});\n",
       "          if (!dataTable) return;\n",
       "\n",
       "          const docLinkHtml = 'Like what you see? Visit the ' +\n",
       "            '<a target=\"_blank\" href=https://colab.research.google.com/notebooks/data_table.ipynb>data table notebook</a>'\n",
       "            + ' to learn more about interactive tables.';\n",
       "          element.innerHTML = '';\n",
       "          dataTable['output_type'] = 'display_data';\n",
       "          await google.colab.output.renderOutput(dataTable, element);\n",
       "          const docLink = document.createElement('div');\n",
       "          docLink.innerHTML = docLinkHtml;\n",
       "          element.appendChild(docLink);\n",
       "        }\n",
       "      </script>\n",
       "    </div>\n",
       "  </div>\n",
       "  "
      ],
      "text/plain": [
       "       sample cell_line response  ID  ENSG00000008394.12|MGST1  \\\n",
       "0  GSM4161769       PC3      Res  84                 -1.097550   \n",
       "2  GSM4161715       PC3      Res  30                  0.567121   \n",
       "4  GSM4161745       PC3      Res  60                 -0.181654   \n",
       "7  GSM4161616       PC3      Sen  21                  0.186515   \n",
       "8  GSM4161684       PC3      Sen  89                 -0.023384   \n",
       "\n",
       "   ENSG00000078668.13|VDAC3  ENSG00000023734.10|STRAP  \\\n",
       "0                  0.033803                 -0.773977   \n",
       "2                  0.675891                 -1.317730   \n",
       "4                  0.681365                  0.467985   \n",
       "7                 -0.346329                  1.330647   \n",
       "8                  0.557364                 -0.515834   \n",
       "\n",
       "   ENSG00000041357.15|PSMA4  ENSG00000075415.12|SLC25A3  \\\n",
       "0                 -0.645446                    0.500319   \n",
       "2                  0.681543                    0.580618   \n",
       "4                 -0.082135                    0.561840   \n",
       "7                  0.839010                    0.203131   \n",
       "8                  0.378458                    0.031233   \n",
       "\n",
       "   ENSG00000099860.8|GADD45B  ...  ENSG00000168615.11|ADAM9  \\\n",
       "0                  -0.590238  ...                  0.784400   \n",
       "2                  -0.590238  ...                  0.927355   \n",
       "4                   0.860808  ...                  0.515374   \n",
       "7                  -1.914303  ...                  0.288937   \n",
       "8                   0.895922  ...                 -0.141554   \n",
       "\n",
       "   ENSG00000173812.10|EIF1  ENSG00000144959.9|NCEH1  ENSG00000245532.5|NEAT1  \\\n",
       "0                 0.511162                 0.822949                 1.654531   \n",
       "2                 1.095973                -1.388493                 0.428909   \n",
       "4                 0.895421                 0.459706                 0.096349   \n",
       "7                 0.278142                 1.107653                 0.967448   \n",
       "8                 0.817224                 1.113367                 0.343855   \n",
       "\n",
       "   ENSG00000081041.8|CXCL2  ENSG00000251562.7|MALAT1  \\\n",
       "0                -0.461708                  1.748719   \n",
       "2                 0.010889                  0.257977   \n",
       "4                -0.461708                  1.671824   \n",
       "7                -0.461708                  0.336510   \n",
       "8                -0.461708                 -0.670916   \n",
       "\n",
       "   ENSG00000248527.1|MTATP6P1  ENSG00000166710.17|B2M  \\\n",
       "0                    0.880784                0.885715   \n",
       "2                    1.007531                0.788760   \n",
       "4                    0.030053                1.527921   \n",
       "7                    1.670668               -0.773733   \n",
       "8                    0.132463                0.253960   \n",
       "\n",
       "   ENSG00000104904.12|OAZ1  ENSG00000277791.4|PSMB3  \n",
       "0                 0.503012                -0.473484  \n",
       "2                 1.413873                 0.592194  \n",
       "4                -0.096203                 0.563755  \n",
       "7                 0.081382                 0.042453  \n",
       "8                 0.866186                 0.903302  \n",
       "\n",
       "[5 rows x 307 columns]"
      ]
     },
     "execution_count": 3,
     "metadata": {},
     "output_type": "execute_result"
    }
   ],
   "source": [
    "PC_data.head(5)"
   ]
  },
  {
   "cell_type": "markdown",
   "metadata": {
    "id": "GtTKjv28hB-L"
   },
   "source": [
    "## Classification of Cell Line - PC\n",
    "\n",
    "\n",
    "too few data point (i.e., 180 sample) so only do train-validation split; no independent testing"
   ]
  },
  {
   "cell_type": "markdown",
   "metadata": {
    "id": "KVSaiPyBjJ8i"
   },
   "source": [
    "#### train_validation split"
   ]
  },
  {
   "cell_type": "code",
   "execution_count": 43,
   "metadata": {
    "colab": {
     "base_uri": "https://localhost:8080/"
    },
    "executionInfo": {
     "elapsed": 128,
     "status": "ok",
     "timestamp": 1651542500178,
     "user": {
      "displayName": "April Yan",
      "userId": "09852906434199162721"
     },
     "user_tz": 240
    },
    "id": "z17cNs78iOWP",
    "outputId": "94e63459-8d49-4aa8-9ede-8926e7ceb916"
   },
   "outputs": [
    {
     "name": "stdout",
     "output_type": "stream",
     "text": [
      "(126, 303)\n",
      "(126,)\n",
      "(54, 303)\n",
      "(54,)\n"
     ]
    }
   ],
   "source": [
    "import numpy as np\n",
    "from sklearn.model_selection import train_test_split\n",
    "from sklearn.utils import shuffle\n",
    "\n",
    "pc_X = PC_data.iloc[:, 4:]\n",
    "pc_Y = PC_data.iloc[:, 2]\n",
    "pc_X, pc_Y = shuffle(pc_X, pc_Y, random_state=1)\n",
    "pc_X_train, pc_X_test, pc_Y_train, pc_Y_test = train_test_split(pc_X, pc_Y, test_size=0.3, random_state=1)\n",
    "pc_Y_train[pc_Y_train == 'Sen'] = 1\n",
    "pc_Y_train[pc_Y_train == 'Res'] = 0\n",
    "pc_Y_test[pc_Y_test == 'Sen'] = 1\n",
    "pc_Y_test[pc_Y_test == 'Res'] = 0\n",
    "\n",
    "pc_X_train, pc_X_test = np.array(pc_X_train).astype('float32'), np.array(pc_X_test).astype('float32')\n",
    "pc_Y_train, pc_Y_test = np.array(pc_Y_train).astype('int32'), np.array(pc_Y_test).astype('int32')\n",
    "\n",
    "print(pc_X_train.shape)\n",
    "print(pc_Y_train.shape)\n",
    "print(pc_X_test.shape)\n",
    "print(pc_Y_test.shape)"
   ]
  },
  {
   "cell_type": "code",
   "execution_count": 55,
   "metadata": {
    "colab": {
     "base_uri": "https://localhost:8080/",
     "height": 265
    },
    "executionInfo": {
     "elapsed": 277,
     "status": "ok",
     "timestamp": 1651542786612,
     "user": {
      "displayName": "April Yan",
      "userId": "09852906434199162721"
     },
     "user_tz": 240
    },
    "id": "Y_mGyf_Ym4LA",
    "outputId": "54c85175-c045-4a16-ba14-fe8b915d9a11"
   },
   "outputs": [
    {
     "data": {
      "image/png": "[encoded data removed]",
      "text/plain": [
       "<Figure size 432x288 with 1 Axes>"
      ]
     },
     "metadata": {
      "needs_background": "light"
     },
     "output_type": "display_data"
    }
   ],
   "source": [
    "from matplotlib import pyplot as plt \n",
    "plt.hist(PC_data['response'])\n",
    "plt.show()"
   ]
  },
  {
   "cell_type": "markdown",
   "metadata": {
    "id": "hw-kTgnxjNY0"
   },
   "source": [
    "#### Model training"
   ]
  },
  {
   "cell_type": "code",
   "execution_count": 107,
   "metadata": {
    "colab": {
     "base_uri": "https://localhost:8080/"
    },
    "executionInfo": {
     "elapsed": 237,
     "status": "ok",
     "timestamp": 1651545069814,
     "user": {
      "displayName": "April Yan",
      "userId": "09852906434199162721"
     },
     "user_tz": 240
    },
    "id": "jBfTxJDshBew",
    "outputId": "63384f3c-7dce-46b0-c5e0-be407034a868"
   },
   "outputs": [
    {
     "name": "stdout",
     "output_type": "stream",
     "text": [
      "Model: \"sequential_26\"\n",
      "_________________________________________________________________\n",
      " Layer (type)                Output Shape              Param #   \n",
      "=================================================================\n",
      " hidden_layer1 (Dense)       (None, 10)                210       \n",
      "                                                                 \n",
      " hidden_layer2 (Dense)       (None, 5)                 55        \n",
      "                                                                 \n",
      " output_layer (Dense)        (None, 1)                 6         \n",
      "                                                                 \n",
      "=================================================================\n",
      "Total params: 271\n",
      "Trainable params: 271\n",
      "Non-trainable params: 0\n",
      "_________________________________________________________________\n"
     ]
    }
   ],
   "source": [
    "from tensorflow.keras.metrics import AUC\n",
    "from tensorflow import keras\n",
    "from tensorflow.keras.models import Sequential\n",
    "from tensorflow.keras.layers import Dense, Dropout, Activation\n",
    "from tensorflow.keras.optimizers import SGD\n",
    "\n",
    "num_features = pc_X_train.shape[1]\n",
    "\n",
    "model = Sequential()\n",
    "model.add(Dense(units=10, activation='relu', input_dim=num_features, name='hidden_layer1'))\n",
    "model.add(Dense(units=5, activation='relu', input_dim=num_features, name='hidden_layer2'))\n",
    "model.add(Dense(units=1, activation='sigmoid', name='output_layer')) \n",
    "opt = SGD(learning_rate=0.1)\n",
    "\n",
    "model.compile(optimizer=opt, loss='binary_crossentropy', metrics=['accuracy'])\n",
    "model.summary()"
   ]
  },
  {
   "cell_type": "code",
   "execution_count": 63,
   "metadata": {
    "colab": {
     "base_uri": "https://localhost:8080/"
    },
    "executionInfo": {
     "elapsed": 1652,
     "status": "ok",
     "timestamp": 1651543101740,
     "user": {
      "displayName": "April Yan",
      "userId": "09852906434199162721"
     },
     "user_tz": 240
    },
    "id": "q0tSHO1ahjio",
    "outputId": "572ff827-2819-4204-a96d-6c1bc2bf34f7"
   },
   "outputs": [
    {
     "name": "stdout",
     "output_type": "stream",
     "text": [
      "Epoch 1/5\n",
      "4/4 [==============================] - 1s 114ms/step - loss: 0.6736 - accuracy: 0.5397 - val_loss: 0.5773 - val_accuracy: 0.7963\n",
      "Epoch 2/5\n",
      "4/4 [==============================] - 0s 23ms/step - loss: 0.5333 - accuracy: 0.8413 - val_loss: 0.4862 - val_accuracy: 0.8704\n",
      "Epoch 3/5\n",
      "4/4 [==============================] - 0s 23ms/step - loss: 0.4434 - accuracy: 0.9444 - val_loss: 0.4384 - val_accuracy: 0.9444\n",
      "Epoch 4/5\n",
      "4/4 [==============================] - 0s 22ms/step - loss: 0.3852 - accuracy: 0.9524 - val_loss: 0.3754 - val_accuracy: 1.0000\n",
      "Epoch 5/5\n",
      "4/4 [==============================] - 0s 24ms/step - loss: 0.3229 - accuracy: 0.9921 - val_loss: 0.3287 - val_accuracy: 1.0000\n"
     ]
    }
   ],
   "source": [
    "result = model.fit(x=pc_X_train, y=pc_Y_train, validation_data=[pc_X_test, pc_Y_test], epochs=5)"
   ]
  },
  {
   "cell_type": "markdown",
   "metadata": {
    "id": "_WwyOlCMou8F"
   },
   "source": [
    "#### randomly choose a list of genes -- 20 genes can reach around 90% validation accuracy"
   ]
  },
  {
   "cell_type": "code",
   "execution_count": 113,
   "metadata": {
    "colab": {
     "base_uri": "https://localhost:8080/"
    },
    "executionInfo": {
     "elapsed": 116,
     "status": "ok",
     "timestamp": 1651545153982,
     "user": {
      "displayName": "April Yan",
      "userId": "09852906434199162721"
     },
     "user_tz": 240
    },
    "id": "yn733JxqouQn",
    "outputId": "d8578ec4-cf2c-4f37-fd9b-e5ec01caf0a4"
   },
   "outputs": [
    {
     "name": "stdout",
     "output_type": "stream",
     "text": [
      "(126, 20)\n",
      "(126,)\n",
      "(54, 20)\n",
      "(54,)\n"
     ]
    }
   ],
   "source": [
    "df = pc_X.sample(n=20,axis='columns')\n",
    "pc_X_train, pc_X_test, pc_Y_train, pc_Y_test = train_test_split(df, pc_Y, test_size=0.3, random_state=1)\n",
    "pc_Y_train[pc_Y_train == 'Sen'] = 1\n",
    "pc_Y_train[pc_Y_train == 'Res'] = 0\n",
    "pc_Y_test[pc_Y_test == 'Sen'] = 1\n",
    "pc_Y_test[pc_Y_test == 'Res'] = 0\n",
    "\n",
    "pc_X_train, pc_X_test = np.array(pc_X_train).astype('float32'), np.array(pc_X_test).astype('float32')\n",
    "pc_Y_train, pc_Y_test = np.array(pc_Y_train).astype('int32'), np.array(pc_Y_test).astype('int32')\n",
    "\n",
    "print(pc_X_train.shape)\n",
    "print(pc_Y_train.shape)\n",
    "print(pc_X_test.shape)\n",
    "print(pc_Y_test.shape)"
   ]
  },
  {
   "cell_type": "code",
   "execution_count": 114,
   "metadata": {
    "colab": {
     "base_uri": "https://localhost:8080/"
    },
    "executionInfo": {
     "elapsed": 246,
     "status": "ok",
     "timestamp": 1651545155815,
     "user": {
      "displayName": "April Yan",
      "userId": "09852906434199162721"
     },
     "user_tz": 240
    },
    "id": "leT9Y6h2pYDX",
    "outputId": "e867a998-fa2d-4f7e-98ad-af41f371a8f3"
   },
   "outputs": [
    {
     "name": "stdout",
     "output_type": "stream",
     "text": [
      "Model: \"sequential_27\"\n",
      "_________________________________________________________________\n",
      " Layer (type)                Output Shape              Param #   \n",
      "=================================================================\n",
      " hidden_layer1 (Dense)       (None, 10)                210       \n",
      "                                                                 \n",
      " hidden_layer2 (Dense)       (None, 5)                 55        \n",
      "                                                                 \n",
      " output_layer (Dense)        (None, 1)                 6         \n",
      "                                                                 \n",
      "=================================================================\n",
      "Total params: 271\n",
      "Trainable params: 271\n",
      "Non-trainable params: 0\n",
      "_________________________________________________________________\n"
     ]
    }
   ],
   "source": [
    "num_features = pc_X_train.shape[1]\n",
    "\n",
    "model = Sequential()\n",
    "model.add(Dense(units=10, activation='relu', input_dim=num_features, name='hidden_layer1'))\n",
    "model.add(Dense(units=5, activation='relu', input_dim=num_features, name='hidden_layer2'))\n",
    "model.add(Dense(units=1, activation='sigmoid', name='output_layer')) \n",
    "opt = SGD(learning_rate=0.1)\n",
    "\n",
    "model.compile(optimizer=opt, loss='binary_crossentropy', metrics=['accuracy'])\n",
    "model.summary()"
   ]
  },
  {
   "cell_type": "code",
   "execution_count": 115,
   "metadata": {
    "colab": {
     "base_uri": "https://localhost:8080/"
    },
    "executionInfo": {
     "elapsed": 1434,
     "status": "ok",
     "timestamp": 1651545160208,
     "user": {
      "displayName": "April Yan",
      "userId": "09852906434199162721"
     },
     "user_tz": 240
    },
    "id": "NmHhk3DMpvx3",
    "outputId": "028d5457-4acb-4fab-d271-65d764f59971"
   },
   "outputs": [
    {
     "name": "stdout",
     "output_type": "stream",
     "text": [
      "Epoch 1/10\n",
      "4/4 [==============================] - 1s 72ms/step - loss: 0.7382 - accuracy: 0.5635 - val_loss: 0.6634 - val_accuracy: 0.5556\n",
      "Epoch 2/10\n",
      "4/4 [==============================] - 0s 13ms/step - loss: 0.6496 - accuracy: 0.7063 - val_loss: 0.6161 - val_accuracy: 0.6667\n",
      "Epoch 3/10\n",
      "4/4 [==============================] - 0s 13ms/step - loss: 0.6088 - accuracy: 0.8333 - val_loss: 0.5869 - val_accuracy: 0.7593\n",
      "Epoch 4/10\n",
      "4/4 [==============================] - 0s 18ms/step - loss: 0.5780 - accuracy: 0.8651 - val_loss: 0.5619 - val_accuracy: 0.8148\n",
      "Epoch 5/10\n",
      "4/4 [==============================] - 0s 14ms/step - loss: 0.5435 - accuracy: 0.8810 - val_loss: 0.5336 - val_accuracy: 0.8333\n",
      "Epoch 6/10\n",
      "4/4 [==============================] - 0s 13ms/step - loss: 0.5126 - accuracy: 0.8810 - val_loss: 0.5044 - val_accuracy: 0.8704\n",
      "Epoch 7/10\n",
      "4/4 [==============================] - 0s 14ms/step - loss: 0.4808 - accuracy: 0.8968 - val_loss: 0.4748 - val_accuracy: 0.8889\n",
      "Epoch 8/10\n",
      "4/4 [==============================] - 0s 18ms/step - loss: 0.4498 - accuracy: 0.9206 - val_loss: 0.4429 - val_accuracy: 0.8889\n",
      "Epoch 9/10\n",
      "4/4 [==============================] - 0s 16ms/step - loss: 0.4128 - accuracy: 0.9286 - val_loss: 0.4083 - val_accuracy: 0.9074\n",
      "Epoch 10/10\n",
      "4/4 [==============================] - 0s 14ms/step - loss: 0.3762 - accuracy: 0.9286 - val_loss: 0.3733 - val_accuracy: 0.9074\n"
     ]
    }
   ],
   "source": [
    "result = model.fit(x=pc_X_train, y=pc_Y_train, validation_data=[pc_X_test, pc_Y_test], epochs=10)"
   ]
  },
  {
   "cell_type": "markdown",
   "metadata": {
    "id": "Rx1Up_raw_sa"
   },
   "source": [
    "#### AUC & ROC"
   ]
  },
  {
   "cell_type": "code",
   "execution_count": 138,
   "metadata": {
    "colab": {
     "base_uri": "https://localhost:8080/"
    },
    "executionInfo": {
     "elapsed": 112,
     "status": "ok",
     "timestamp": 1651546634090,
     "user": {
      "displayName": "April Yan",
      "userId": "09852906434199162721"
     },
     "user_tz": 240
    },
    "id": "JDUyVOsnv-5F",
    "outputId": "c357c75b-25e8-4799-d3a7-2dcdf4af9ea9"
   },
   "outputs": [
    {
     "name": "stdout",
     "output_type": "stream",
     "text": [
      "0.98402774\n"
     ]
    }
   ],
   "source": [
    "val_pred = model.predict(pc_X_test)\n",
    "m = AUC()\n",
    "m.update_state(pc_Y_test, val_pred)\n",
    "print(m.result().numpy())"
   ]
  },
  {
   "cell_type": "code",
   "execution_count": 136,
   "metadata": {
    "executionInfo": {
     "elapsed": 118,
     "status": "ok",
     "timestamp": 1651546607550,
     "user": {
      "displayName": "April Yan",
      "userId": "09852906434199162721"
     },
     "user_tz": 240
    },
    "id": "L80emyqb0zsT"
   },
   "outputs": [],
   "source": [
    "pc_Y_test = pc_Y_test.reshape([len(pc_Y_test),1])\n",
    "val_pred = val_pred.reshape([len(val_pred),1])"
   ]
  },
  {
   "cell_type": "code",
   "execution_count": 139,
   "metadata": {
    "colab": {
     "base_uri": "https://localhost:8080/"
    },
    "executionInfo": {
     "elapsed": 198,
     "status": "ok",
     "timestamp": 1651546636599,
     "user": {
      "displayName": "April Yan",
      "userId": "09852906434199162721"
     },
     "user_tz": 240
    },
    "id": "DUsJ5_4czhvX",
    "outputId": "ff981a5f-3d07-46f9-a528-10d3f7e4506d"
   },
   "outputs": [
    {
     "name": "stdout",
     "output_type": "stream",
     "text": [
      "(54, 2)\n",
      "(54, 2)\n"
     ]
    }
   ],
   "source": [
    "y_test = np.concatenate((pc_Y_test, 1-pc_Y_test), 1)\n",
    "val_pred = np.concatenate((val_pred, 1-val_pred), 1)\n",
    "print(y_test.shape)\n",
    "print(val_pred.shape)"
   ]
  },
  {
   "cell_type": "code",
   "execution_count": 146,
   "metadata": {
    "executionInfo": {
     "elapsed": 119,
     "status": "ok",
     "timestamp": 1651546823977,
     "user": {
      "displayName": "April Yan",
      "userId": "09852906434199162721"
     },
     "user_tz": 240
    },
    "id": "1hDlKyesxMCg"
   },
   "outputs": [],
   "source": [
    "from sklearn.metrics import roc_curve, auc\n",
    "import matplotlib.pyplot as plt\n",
    "\n",
    "n_classes = 2\n",
    "def plot_roc_multi(y_test, y_pred, n_classes):\n",
    "  fpr = dict()\n",
    "  tpr = dict()\n",
    "  roc_auc = dict()\n",
    "  new_lab = ['Res','Sen']\n",
    "  for i,j in zip(range(n_classes),new_lab):\n",
    "      fpr[i], tpr[i], _ = roc_curve(y_test[:, i], y_pred[:, i])\n",
    "      roc_auc[i] = auc(fpr[i], tpr[i])\n",
    "      plt.plot(fpr[i], tpr[i], label='{0} (AUC={1:0.3f})' \n",
    "              ''.format(j, roc_auc[i]))\n",
    "\n",
    "  plt.plot([0, 1], [0, 1], 'k--')\n",
    "  #plt.xlim([0.0, 1.0])\n",
    "  #plt.ylim([0.0, 1.0])\n",
    "  plt.xlabel('False Positive Rate')\n",
    "  plt.ylabel('True Positive Rate')\n",
    "  plt.legend(loc=\"best\")\n",
    "  #plt.title(model_title + \"+\" + aug_method)\n",
    "  return plt.show()"
   ]
  },
  {
   "cell_type": "code",
   "execution_count": 147,
   "metadata": {
    "colab": {
     "base_uri": "https://localhost:8080/",
     "height": 279
    },
    "executionInfo": {
     "elapsed": 177,
     "status": "ok",
     "timestamp": 1651546826066,
     "user": {
      "displayName": "April Yan",
      "userId": "09852906434199162721"
     },
     "user_tz": 240
    },
    "id": "VG2Qq0cD21YF",
    "outputId": "f7aa4554-1767-4612-86d0-74877356b1c3"
   },
   "outputs": [
    {
     "data": {
      "image/png": "[encoded data removed]",
      "text/plain": [
       "<Figure size 432x288 with 1 Axes>"
      ]
     },
     "metadata": {
      "needs_background": "light"
     },
     "output_type": "display_data"
    }
   ],
   "source": [
    "plot_roc_multi(y_test, val_pred, n_classes)"
   ]
  },
  {
   "cell_type": "markdown",
   "metadata": {
    "id": "pJCL-QknvU5j"
   },
   "source": [
    "#### Plot learning curve -- accuracy"
   ]
  },
  {
   "cell_type": "code",
   "execution_count": 117,
   "metadata": {
    "executionInfo": {
     "elapsed": 128,
     "status": "ok",
     "timestamp": 1651545173154,
     "user": {
      "displayName": "April Yan",
      "userId": "09852906434199162721"
     },
     "user_tz": 240
    },
    "id": "Rxct-h0hvXps"
   },
   "outputs": [],
   "source": [
    "def plot_learning_curve_keras(hist,epoch,metric1,metric2):\n",
    "  loss = hist.history[metric1]\n",
    "  loss_val = hist.history[metric2]\n",
    "  plt.plot(range(epoch), loss)\n",
    "  plt.plot(range(epoch), loss_val)\n",
    "  plt.xlabel('epochs')\n",
    "  plt.ylabel('loss')\n",
    "  plt.legend(['training','validation'])\n",
    "  return plt.show()"
   ]
  },
  {
   "cell_type": "code",
   "execution_count": 118,
   "metadata": {
    "colab": {
     "base_uri": "https://localhost:8080/",
     "height": 279
    },
    "executionInfo": {
     "elapsed": 154,
     "status": "ok",
     "timestamp": 1651545175016,
     "user": {
      "displayName": "April Yan",
      "userId": "09852906434199162721"
     },
     "user_tz": 240
    },
    "id": "8C-m3AvVvbTu",
    "outputId": "1481cf81-563a-4015-9dd0-45cdd89be18e"
   },
   "outputs": [
    {
     "data": {
      "image/png": "[encoded data removed]",
      "text/plain": [
       "<Figure size 432x288 with 1 Axes>"
      ]
     },
     "metadata": {
      "needs_background": "light"
     },
     "output_type": "display_data"
    }
   ],
   "source": [
    "plot_learning_curve_keras(result, 10,'accuracy','val_accuracy')"
   ]
  }
 ],
 "metadata": {
  "colab": {
   "authorship_tag": "ABX9TyOBP6i3VuOnZE6ZBYLNa6To",
   "collapsed_sections": [
    "YQyRoH54ge0W"
   ],
   "name": "NeuralNetwork_Classification.ipynb",
   "provenance": []
  },
  "kernelspec": {
   "display_name": "Python 3 (ipykernel)",
   "language": "python",
   "name": "python3"
  },
  "language_info": {
   "codemirror_mode": {
    "name": "ipython",
    "version": 3
   },
   "file_extension": ".py",
   "mimetype": "text/x-python",
   "name": "python",
   "nbconvert_exporter": "python",
   "pygments_lexer": "ipython3",
   "version": "3.8.12"
  }
 },
 "nbformat": 4,
 "nbformat_minor": 1
}
