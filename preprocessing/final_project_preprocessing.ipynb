{
 "cells": [
  {
   "cell_type": "code",
   "execution_count": 1,
   "id": "061c15cb",
   "metadata": {},
   "outputs": [],
   "source": [
    "import pandas as pd\n",
    "import numpy as np\n",
    "import matplotlib.pyplot as plt"
   ]
  },
  {
   "cell_type": "code",
   "execution_count": 32,
   "id": "d3f5ea2a",
   "metadata": {},
   "outputs": [],
   "source": [
    "# read in dataframe\n",
    "df = pd.read_csv('all_data.tsv', sep='\\t')\n",
    "# remove first column\n",
    "df = df.iloc[: , 1:]"
   ]
  },
  {
   "cell_type": "code",
   "execution_count": 34,
   "id": "89467fb4",
   "metadata": {},
   "outputs": [],
   "source": [
    "# remove all col containing only zeros\n",
    "df = df.loc[:, (df != 0).any(axis=0)]"
   ]
  },
  {
   "cell_type": "code",
   "execution_count": 33,
   "id": "3e485dc6",
   "metadata": {},
   "outputs": [],
   "source": [
    "# drop ENSG00000125538.11|IL1B because it has no variance in the DU145 cell line\n",
    "df = df.drop(columns=['ENSG00000125538.11|IL1B'])"
   ]
  },
  {
   "cell_type": "code",
   "execution_count": 35,
   "id": "4c80a37c",
   "metadata": {},
   "outputs": [],
   "source": [
    "# low variance filtering\n",
    "values_df = df.iloc[: , 4:]\n",
    "variance = values_df.var()\n",
    "columns = values_df.columns\n",
    "#saving the names of variables having variance more than a threshold value\n",
    "threshold = np.percentile(variance, 99.5)\n",
    "variable = [ ]\n",
    "for i in range(0,len(variance)):\n",
    "    if variance[i]>=threshold: #setting the threshold as 1%\n",
    "        variable.append(columns[i])\n",
    "new_cols = ['sample', 'cell_line', 'response', 'ID'] + variable\n",
    "df_filtered = df[new_cols]"
   ]
  },
  {
   "cell_type": "code",
   "execution_count": 36,
   "id": "78ab4dc1",
   "metadata": {},
   "outputs": [
    {
     "data": {
      "image/png": "[encoded data removed]",
      "text/plain": [
       "<Figure size 432x288 with 1 Axes>"
      ]
     },
     "metadata": {
      "needs_background": "light"
     },
     "output_type": "display_data"
    }
   ],
   "source": [
    "# plot variances\n",
    "plt.hist(np.var(np.log(np.add(df_filtered.iloc[: , 4:], 1))))\n",
    "plt.xlabel(\"Log of Variance\")\n",
    "plt.ylabel(\"Count\");"
   ]
  },
  {
   "cell_type": "markdown",
   "id": "b0081ff0",
   "metadata": {},
   "source": [
    "### Perform normalization using all data"
   ]
  },
  {
   "cell_type": "code",
   "execution_count": 37,
   "id": "6c9818c0",
   "metadata": {
    "scrolled": true
   },
   "outputs": [],
   "source": [
    "# log transform\n",
    "df_filtered.iloc[: , 4:] = np.log2(np.add(df_filtered.iloc[: , 4:], 1))"
   ]
  },
  {
   "cell_type": "code",
   "execution_count": 38,
   "id": "9b5cc831",
   "metadata": {},
   "outputs": [],
   "source": [
    "# perform z-score normalization\n",
    "df_normalized = df_filtered\n",
    "df_normalized.iloc[: , 4:]=df_filtered.iloc[: , 4:].apply(lambda x: (x-x.mean())/x.std(), axis=0)"
   ]
  },
  {
   "cell_type": "code",
   "execution_count": 39,
   "id": "d92f8a92",
   "metadata": {},
   "outputs": [
    {
     "data": {
      "text/html": [
       "<div>\n",
       "<style scoped>\n",
       "    .dataframe tbody tr th:only-of-type {\n",
       "        vertical-align: middle;\n",
       "    }\n",
       "\n",
       "    .dataframe tbody tr th {\n",
       "        vertical-align: top;\n",
       "    }\n",
       "\n",
       "    .dataframe thead th {\n",
       "        text-align: right;\n",
       "    }\n",
       "</style>\n",
       "<table border=\"1\" class=\"dataframe\">\n",
       "  <thead>\n",
       "    <tr style=\"text-align: right;\">\n",
       "      <th></th>\n",
       "      <th>sample</th>\n",
       "      <th>cell_line</th>\n",
       "      <th>response</th>\n",
       "      <th>ID</th>\n",
       "      <th>ENSG00000008394.12|MGST1</th>\n",
       "      <th>ENSG00000078668.13|VDAC3</th>\n",
       "      <th>ENSG00000023734.10|STRAP</th>\n",
       "      <th>ENSG00000075415.12|SLC25A3</th>\n",
       "      <th>ENSG00000099860.8|GADD45B</th>\n",
       "      <th>ENSG00000100316.15|RPL3</th>\n",
       "      <th>...</th>\n",
       "      <th>ENSG00000231500.6|RPS18</th>\n",
       "      <th>ENSG00000225840.2|AC010970.2</th>\n",
       "      <th>ENSG00000139921.12|TMX1</th>\n",
       "      <th>ENSG00000173812.10|EIF1</th>\n",
       "      <th>ENSG00000245532.5|NEAT1</th>\n",
       "      <th>ENSG00000251562.7|MALAT1</th>\n",
       "      <th>ENSG00000248527.1|MTATP6P1</th>\n",
       "      <th>ENSG00000166710.17|B2M</th>\n",
       "      <th>ENSG00000104904.12|OAZ1</th>\n",
       "      <th>ENSG00000277791.4|PSMB3</th>\n",
       "    </tr>\n",
       "  </thead>\n",
       "  <tbody>\n",
       "    <tr>\n",
       "      <th>0</th>\n",
       "      <td>GSM4161769</td>\n",
       "      <td>PC3</td>\n",
       "      <td>Res</td>\n",
       "      <td>84</td>\n",
       "      <td>-1.377295</td>\n",
       "      <td>-0.262543</td>\n",
       "      <td>-1.194097</td>\n",
       "      <td>0.084289</td>\n",
       "      <td>-1.085795</td>\n",
       "      <td>0.713587</td>\n",
       "      <td>...</td>\n",
       "      <td>-0.101213</td>\n",
       "      <td>1.212197</td>\n",
       "      <td>-0.944281</td>\n",
       "      <td>0.090477</td>\n",
       "      <td>1.817742</td>\n",
       "      <td>1.148482</td>\n",
       "      <td>1.197613</td>\n",
       "      <td>0.608182</td>\n",
       "      <td>-0.087235</td>\n",
       "      <td>-0.816005</td>\n",
       "    </tr>\n",
       "    <tr>\n",
       "      <th>1</th>\n",
       "      <td>GSM4161578</td>\n",
       "      <td>DU145</td>\n",
       "      <td>Res</td>\n",
       "      <td>55</td>\n",
       "      <td>1.438918</td>\n",
       "      <td>0.039067</td>\n",
       "      <td>0.551972</td>\n",
       "      <td>1.012144</td>\n",
       "      <td>0.790705</td>\n",
       "      <td>1.070004</td>\n",
       "      <td>...</td>\n",
       "      <td>0.804721</td>\n",
       "      <td>-0.096362</td>\n",
       "      <td>0.665905</td>\n",
       "      <td>1.067020</td>\n",
       "      <td>0.635339</td>\n",
       "      <td>1.342060</td>\n",
       "      <td>-0.385534</td>\n",
       "      <td>1.257607</td>\n",
       "      <td>0.783211</td>\n",
       "      <td>0.801770</td>\n",
       "    </tr>\n",
       "    <tr>\n",
       "      <th>2</th>\n",
       "      <td>GSM4161715</td>\n",
       "      <td>PC3</td>\n",
       "      <td>Res</td>\n",
       "      <td>30</td>\n",
       "      <td>-0.010744</td>\n",
       "      <td>0.387412</td>\n",
       "      <td>-1.714243</td>\n",
       "      <td>0.150038</td>\n",
       "      <td>-1.085795</td>\n",
       "      <td>0.143211</td>\n",
       "      <td>...</td>\n",
       "      <td>0.144990</td>\n",
       "      <td>0.471968</td>\n",
       "      <td>0.192153</td>\n",
       "      <td>0.618324</td>\n",
       "      <td>0.485331</td>\n",
       "      <td>-0.149197</td>\n",
       "      <td>1.321915</td>\n",
       "      <td>0.526012</td>\n",
       "      <td>0.660744</td>\n",
       "      <td>0.065383</td>\n",
       "    </tr>\n",
       "    <tr>\n",
       "      <th>3</th>\n",
       "      <td>GSM4161499</td>\n",
       "      <td>DU145</td>\n",
       "      <td>Sen</td>\n",
       "      <td>48</td>\n",
       "      <td>-1.062245</td>\n",
       "      <td>-2.858963</td>\n",
       "      <td>-0.442789</td>\n",
       "      <td>-1.790684</td>\n",
       "      <td>-0.023095</td>\n",
       "      <td>-1.339704</td>\n",
       "      <td>...</td>\n",
       "      <td>-0.971861</td>\n",
       "      <td>-0.636382</td>\n",
       "      <td>-1.318055</td>\n",
       "      <td>-0.645874</td>\n",
       "      <td>-1.994764</td>\n",
       "      <td>-1.502926</td>\n",
       "      <td>-2.509136</td>\n",
       "      <td>-0.935874</td>\n",
       "      <td>-1.089036</td>\n",
       "      <td>-2.225375</td>\n",
       "    </tr>\n",
       "    <tr>\n",
       "      <th>4</th>\n",
       "      <td>GSM4161745</td>\n",
       "      <td>PC3</td>\n",
       "      <td>Res</td>\n",
       "      <td>60</td>\n",
       "      <td>-0.625424</td>\n",
       "      <td>0.392954</td>\n",
       "      <td>-0.006055</td>\n",
       "      <td>0.134662</td>\n",
       "      <td>0.275109</td>\n",
       "      <td>0.213233</td>\n",
       "      <td>...</td>\n",
       "      <td>0.839275</td>\n",
       "      <td>0.235268</td>\n",
       "      <td>-0.204319</td>\n",
       "      <td>0.437307</td>\n",
       "      <td>0.123794</td>\n",
       "      <td>1.081546</td>\n",
       "      <td>0.363295</td>\n",
       "      <td>1.152453</td>\n",
       "      <td>-0.579297</td>\n",
       "      <td>0.041861</td>\n",
       "    </tr>\n",
       "  </tbody>\n",
       "</table>\n",
       "<p>5 rows × 207 columns</p>\n",
       "</div>"
      ],
      "text/plain": [
       "       sample cell_line response  ID  ENSG00000008394.12|MGST1  \\\n",
       "0  GSM4161769       PC3      Res  84                 -1.377295   \n",
       "1  GSM4161578     DU145      Res  55                  1.438918   \n",
       "2  GSM4161715       PC3      Res  30                 -0.010744   \n",
       "3  GSM4161499     DU145      Sen  48                 -1.062245   \n",
       "4  GSM4161745       PC3      Res  60                 -0.625424   \n",
       "\n",
       "   ENSG00000078668.13|VDAC3  ENSG00000023734.10|STRAP  \\\n",
       "0                 -0.262543                 -1.194097   \n",
       "1                  0.039067                  0.551972   \n",
       "2                  0.387412                 -1.714243   \n",
       "3                 -2.858963                 -0.442789   \n",
       "4                  0.392954                 -0.006055   \n",
       "\n",
       "   ENSG00000075415.12|SLC25A3  ENSG00000099860.8|GADD45B  \\\n",
       "0                    0.084289                  -1.085795   \n",
       "1                    1.012144                   0.790705   \n",
       "2                    0.150038                  -1.085795   \n",
       "3                   -1.790684                  -0.023095   \n",
       "4                    0.134662                   0.275109   \n",
       "\n",
       "   ENSG00000100316.15|RPL3  ...  ENSG00000231500.6|RPS18  \\\n",
       "0                 0.713587  ...                -0.101213   \n",
       "1                 1.070004  ...                 0.804721   \n",
       "2                 0.143211  ...                 0.144990   \n",
       "3                -1.339704  ...                -0.971861   \n",
       "4                 0.213233  ...                 0.839275   \n",
       "\n",
       "   ENSG00000225840.2|AC010970.2  ENSG00000139921.12|TMX1  \\\n",
       "0                      1.212197                -0.944281   \n",
       "1                     -0.096362                 0.665905   \n",
       "2                      0.471968                 0.192153   \n",
       "3                     -0.636382                -1.318055   \n",
       "4                      0.235268                -0.204319   \n",
       "\n",
       "   ENSG00000173812.10|EIF1  ENSG00000245532.5|NEAT1  ENSG00000251562.7|MALAT1  \\\n",
       "0                 0.090477                 1.817742                  1.148482   \n",
       "1                 1.067020                 0.635339                  1.342060   \n",
       "2                 0.618324                 0.485331                 -0.149197   \n",
       "3                -0.645874                -1.994764                 -1.502926   \n",
       "4                 0.437307                 0.123794                  1.081546   \n",
       "\n",
       "   ENSG00000248527.1|MTATP6P1  ENSG00000166710.17|B2M  \\\n",
       "0                    1.197613                0.608182   \n",
       "1                   -0.385534                1.257607   \n",
       "2                    1.321915                0.526012   \n",
       "3                   -2.509136               -0.935874   \n",
       "4                    0.363295                1.152453   \n",
       "\n",
       "   ENSG00000104904.12|OAZ1  ENSG00000277791.4|PSMB3  \n",
       "0                -0.087235                -0.816005  \n",
       "1                 0.783211                 0.801770  \n",
       "2                 0.660744                 0.065383  \n",
       "3                -1.089036                -2.225375  \n",
       "4                -0.579297                 0.041861  \n",
       "\n",
       "[5 rows x 207 columns]"
      ]
     },
     "execution_count": 39,
     "metadata": {},
     "output_type": "execute_result"
    }
   ],
   "source": [
    "df_normalized.head()"
   ]
  },
  {
   "cell_type": "code",
   "execution_count": 40,
   "id": "32a5d833",
   "metadata": {},
   "outputs": [],
   "source": [
    "# save normalized data to csv for future use\n",
    "df_normalized.to_csv('normalized_data.tsv', sep='\\t')"
   ]
  },
  {
   "cell_type": "markdown",
   "id": "96354ff2",
   "metadata": {},
   "source": [
    "### Perform normalization seperated by cell line"
   ]
  },
  {
   "cell_type": "code",
   "execution_count": 41,
   "id": "82f6f46f",
   "metadata": {},
   "outputs": [
    {
     "name": "stderr",
     "output_type": "stream",
     "text": [
      "/Applications/anaconda3/lib/python3.9/site-packages/pandas/core/indexing.py:1851: SettingWithCopyWarning: \n",
      "A value is trying to be set on a copy of a slice from a DataFrame.\n",
      "Try using .loc[row_indexer,col_indexer] = value instead\n",
      "\n",
      "See the caveats in the documentation: https://pandas.pydata.org/pandas-docs/stable/user_guide/indexing.html#returning-a-view-versus-a-copy\n",
      "  self._setitem_single_column(loc, val, pi)\n"
     ]
    }
   ],
   "source": [
    "# PC3 cell line\n",
    "df_normalized_PC3 = df_filtered.loc[df['cell_line'] == 'PC3']\n",
    "df_normalized_PC3.iloc[: , 4:]=df_normalized_PC3.iloc[: , 4:].apply(lambda x: (x-x.mean())/x.std(), axis=0)\n",
    "# DU145 cell line\n",
    "df_normalized_DU145 = df_filtered.loc[df['cell_line'] == 'DU145']\n",
    "df_normalized_DU145.iloc[: , 4:]=df_normalized_DU145.iloc[: , 4:].apply(lambda x: (x-x.mean())/x.std(), axis=0)"
   ]
  },
  {
   "cell_type": "code",
   "execution_count": 45,
   "id": "30fb071d",
   "metadata": {},
   "outputs": [],
   "source": [
    "# save normalized data to csv for future use\n",
    "df_normalized_PC3.to_csv('normalized_data_PC3.tsv', sep='\\t')\n",
    "df_normalized_DU145.to_csv('normalized_data_DU145.tsv', sep='\\t')"
   ]
  },
  {
   "cell_type": "code",
   "execution_count": null,
   "id": "c029b0c7",
   "metadata": {},
   "outputs": [],
   "source": []
  }
 ],
 "metadata": {
  "kernelspec": {
   "display_name": "Python 3 (ipykernel)",
   "language": "python",
   "name": "python3"
  },
  "language_info": {
   "codemirror_mode": {
    "name": "ipython",
    "version": 3
   },
   "file_extension": ".py",
   "mimetype": "text/x-python",
   "name": "python",
   "nbconvert_exporter": "python",
   "pygments_lexer": "ipython3",
   "version": "3.9.7"
  }
 },
 "nbformat": 4,
 "nbformat_minor": 5
}
